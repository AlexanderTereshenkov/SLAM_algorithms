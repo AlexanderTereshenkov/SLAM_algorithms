{
 "cells": [
  {
   "cell_type": "markdown",
   "metadata": {},
   "source": [
    "## Лабораторная работа 1 \n",
    "Реализовать алгоритмы TF-IDF + word2vec (чтобы можно было складывать и вычитать слова). Также необходимо найти датасет для обучения написанных алгоритмов\n"
   ]
  },
  {
   "cell_type": "markdown",
   "metadata": {},
   "source": [
    "## TF-IDF realization"
   ]
  },
  {
   "cell_type": "code",
   "execution_count": null,
   "metadata": {},
   "outputs": [
    {
     "data": {
      "text/plain": [
       "{'car', 'driven', 'highway', 'is', 'on', 'road', 'the', 'truck'}"
      ]
     },
     "execution_count": 4,
     "metadata": {},
     "output_type": "execute_result"
    }
   ],
   "source": [
    "A = \"The car is driven on the road\"\n",
    "B = \"The truck is driven on the highway\"\n",
    "\n",
    "sentences = [A, B]\n",
    "special_symbols = \".,;:?!\"\n",
    "all_words = set()\n",
    "tf = dict()\n",
    "idf = dict()\n",
    "tf_idf = dict()\n",
    "\n",
    "for sentence in sentences:\n",
    "    words = [x.lower() for x in sentence.split(\" \")]\n",
    "    all_words.update(words)\n",
    "\n",
    "\n"
   ]
  },
  {
   "cell_type": "markdown",
   "metadata": {},
   "source": []
  }
 ],
 "metadata": {
  "kernelspec": {
   "display_name": "statistics_learning",
   "language": "python",
   "name": "python3"
  },
  "language_info": {
   "codemirror_mode": {
    "name": "ipython",
    "version": 3
   },
   "file_extension": ".py",
   "mimetype": "text/x-python",
   "name": "python",
   "nbconvert_exporter": "python",
   "pygments_lexer": "ipython3",
   "version": "3.12.7"
  }
 },
 "nbformat": 4,
 "nbformat_minor": 2
}
